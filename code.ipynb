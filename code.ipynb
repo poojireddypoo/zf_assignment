{
 "cells": [
  {
   "cell_type": "code",
   "execution_count": 2,
   "id": "9c67a99e-da33-49e3-a04c-64d18f80fab1",
   "metadata": {},
   "outputs": [],
   "source": [
    "import pandas as pd\n",
    "from sklearn.model_selection import train_test_split\n",
    "from sklearn.ensemble import RandomForestClassifier\n",
    "from sklearn.metrics import accuracy_score, classification_report\n",
    "from sklearn.impute import SimpleImputer\n",
    "from sklearn.compose import ColumnTransformer\n",
    "from sklearn.pipeline import Pipeline\n",
    "from sklearn.preprocessing import OneHotEncoder\n",
    "import matplotlib.pyplot as plt\n",
    "from sklearn.metrics import confusion_matrix\n",
    "import seaborn as sns"
   ]
  },
  {
   "cell_type": "code",
   "execution_count": 3,
   "id": "fc4a6efa-8c32-4bb8-8344-fb9386132633",
   "metadata": {},
   "outputs": [
    {
     "name": "stdout",
     "output_type": "stream",
     "text": [
      "  MEMBERSHIP_NUMBER  MEMBERSHIP_TERM_YEARS  ANNUAL_FEES MEMBER_MARITAL_STATUS  \\\n",
      "0            A00001                     29     113125.0                     M   \n",
      "1            A00002                     38     112220.0                     M   \n",
      "2            A00003                     12     100000.0                     M   \n",
      "3            A00004                     12     100000.0                     M   \n",
      "4            A00005                     46     100000.0                     M   \n",
      "\n",
      "  MEMBER_GENDER  MEMBER_ANNUAL_INCOME  MEMBER_OCCUPATION_CD  \\\n",
      "0             M            25200000.0                   1.0   \n",
      "1             M            10339200.0                   1.0   \n",
      "2             M            14400000.0                   1.0   \n",
      "3             M             9000000.0                   1.0   \n",
      "4             M             4800000.0                   1.0   \n",
      "\n",
      "  MEMBERSHIP_PACKAGE  MEMBER_AGE_AT_ISSUE  ADDITIONAL_MEMBERS PAYMENT_MODE  \\\n",
      "0             TYPE-B                   45                   2       ANNUAL   \n",
      "1             TYPE-B                   36                   3    QUARTERLY   \n",
      "2             TYPE-B                   42                   1       ANNUAL   \n",
      "3             TYPE-B                   39                   2       ANNUAL   \n",
      "4             TYPE-B                   27                   2    QUARTERLY   \n",
      "\n",
      "  AGENT_CODE MEMBERSHIP_STATUS  START_DATE (YYYYMMDD)  END_DATE  (YYYYMMDD)  \n",
      "0        477           INFORCE               20060914                   NaN  \n",
      "1        255           INFORCE               20061102                   NaN  \n",
      "2       7866           INFORCE               20070124                   NaN  \n",
      "3     200533           INFORCE               20070122                   NaN  \n",
      "4       6988           INFORCE               20070131                   NaN  \n",
      "<class 'pandas.core.frame.DataFrame'>\n",
      "RangeIndex: 10362 entries, 0 to 10361\n",
      "Data columns (total 15 columns):\n",
      " #   Column                 Non-Null Count  Dtype  \n",
      "---  ------                 --------------  -----  \n",
      " 0   MEMBERSHIP_NUMBER      10362 non-null  object \n",
      " 1   MEMBERSHIP_TERM_YEARS  10362 non-null  int64  \n",
      " 2   ANNUAL_FEES            10362 non-null  float64\n",
      " 3   MEMBER_MARITAL_STATUS  7765 non-null   object \n",
      " 4   MEMBER_GENDER          9751 non-null   object \n",
      " 5   MEMBER_ANNUAL_INCOME   8608 non-null   float64\n",
      " 6   MEMBER_OCCUPATION_CD   10319 non-null  float64\n",
      " 7   MEMBERSHIP_PACKAGE     10362 non-null  object \n",
      " 8   MEMBER_AGE_AT_ISSUE    10362 non-null  int64  \n",
      " 9   ADDITIONAL_MEMBERS     10362 non-null  int64  \n",
      " 10  PAYMENT_MODE           10362 non-null  object \n",
      " 11  AGENT_CODE             10362 non-null  object \n",
      " 12  MEMBERSHIP_STATUS      10362 non-null  object \n",
      " 13  START_DATE (YYYYMMDD)  10362 non-null  int64  \n",
      " 14  END_DATE  (YYYYMMDD)   3143 non-null   float64\n",
      "dtypes: float64(4), int64(4), object(7)\n",
      "memory usage: 1.2+ MB\n",
      "None\n",
      "       MEMBERSHIP_TERM_YEARS   ANNUAL_FEES  MEMBER_ANNUAL_INCOME  \\\n",
      "count           10362.000000  1.036200e+04          8.608000e+03   \n",
      "mean               29.395001  1.788122e+05          1.451100e+06   \n",
      "std                22.427712  2.688747e+05          1.757174e+07   \n",
      "min                 9.000000  0.000000e+00          9.996000e+03   \n",
      "25%                12.000000  1.000000e+05          3.999960e+05   \n",
      "50%                19.000000  1.182093e+05          5.499960e+05   \n",
      "75%                37.000000  1.900000e+05          9.999960e+05   \n",
      "max               102.000000  1.010000e+07          1.000000e+09   \n",
      "\n",
      "       MEMBER_OCCUPATION_CD  MEMBER_AGE_AT_ISSUE  ADDITIONAL_MEMBERS  \\\n",
      "count          10319.000000         10362.000000        10362.000000   \n",
      "mean               1.711019            46.798494            1.412276   \n",
      "std                1.453960            13.897085            1.145136   \n",
      "min                1.000000             0.000000            0.000000   \n",
      "25%                1.000000            37.000000            0.000000   \n",
      "50%                1.000000            46.000000            1.000000   \n",
      "75%                2.000000            57.000000            2.000000   \n",
      "max                6.000000            92.000000            3.000000   \n",
      "\n",
      "       START_DATE (YYYYMMDD)  END_DATE  (YYYYMMDD)  \n",
      "count           1.036200e+04          3.143000e+03  \n",
      "mean            2.010828e+07          2.011390e+07  \n",
      "std             1.719666e+04          1.378483e+04  \n",
      "min             2.006091e+07          2.007083e+07  \n",
      "25%             2.009123e+07          2.010122e+07  \n",
      "50%             2.010123e+07          2.011113e+07  \n",
      "75%             2.012123e+07          2.013012e+07  \n",
      "max             2.013113e+07          2.013112e+07  \n"
     ]
    }
   ],
   "source": [
    "data = pd.read_excel(\"data.xlsx\", sheet_name=\"Data\")  \n",
    "# a) Exploratory Data Analysis &  Data pre-processing\n",
    "print(data.head())\n",
    "print(data.info())\n",
    "print(data.describe())\n",
    "\n",
    "X = data.drop(\"MEMBERSHIP_STATUS\", axis=1) \n",
    "y = data[\"MEMBERSHIP_STATUS\"] \n"
   ]
  },
  {
   "cell_type": "code",
   "execution_count": 4,
   "id": "a8982c7a-765b-4296-8391-bc988de2583f",
   "metadata": {},
   "outputs": [
    {
     "name": "stdout",
     "output_type": "stream",
     "text": [
      "Accuracy: 0.6912686927158708\n",
      "Classification Report:\n",
      "               precision    recall  f1-score   support\n",
      "\n",
      "   CANCELLED       0.48      0.33      0.39       620\n",
      "     INFORCE       0.75      0.85      0.79      1453\n",
      "\n",
      "    accuracy                           0.69      2073\n",
      "   macro avg       0.61      0.59      0.59      2073\n",
      "weighted avg       0.67      0.69      0.67      2073\n",
      "\n"
     ]
    }
   ],
   "source": [
    "\n",
    "# \tb) Split the data into training and test. Fit a model and score it with the test data\n",
    "\n",
    "X_train, X_test, y_train, y_test = train_test_split(X, y, test_size=0.2, random_state=42)\n",
    "numerical_columns = ['MEMBERSHIP_TERM_YEARS', 'ANNUAL_FEES', 'MEMBER_ANNUAL_INCOME', 'MEMBER_AGE_AT_ISSUE', 'ADDITIONAL_MEMBERS']\n",
    "categorical_columns = ['MEMBER_MARITAL_STATUS', 'MEMBER_GENDER', 'MEMBER_OCCUPATION_CD', 'MEMBERSHIP_PACKAGE', 'PAYMENT_MODE']\n",
    "numerical_transformer = SimpleImputer(strategy='mean')\n",
    "categorical_transformer = Pipeline(steps=[\n",
    "    ('imputer', SimpleImputer(strategy='most_frequent')),\n",
    "    ('onehot', OneHotEncoder(handle_unknown='ignore'))\n",
    "])\n",
    "\n",
    "preprocessor = ColumnTransformer(\n",
    "    transformers=[\n",
    "        ('num', numerical_transformer, numerical_columns),\n",
    "        ('cat', categorical_transformer, categorical_columns)\n",
    "    ])\n",
    "model = Pipeline(steps=[('preprocessor', preprocessor),\n",
    "                        ('classifier', RandomForestClassifier(random_state=42))])\n",
    "\n",
    "# Train the model\n",
    "model.fit(X_train, y_train)\n",
    "\n",
    "# Model Evaluation\n",
    "y_pred = model.predict(X_test)\n",
    "print(\"Accuracy:\", accuracy_score(y_test, y_pred))\n",
    "print(\"Classification Report:\\n\", classification_report(y_test, y_pred))\n",
    "\n",
    "\n"
   ]
  },
  {
   "cell_type": "code",
   "execution_count": 5,
   "id": "73ff0259-b163-4f3e-b5db-e11bb62298b6",
   "metadata": {},
   "outputs": [
    {
     "data": {
      "image/png": "[encoded data removed]",
      "text/plain": [
       "<Figure size 600x400 with 2 Axes>"
      ]
     },
     "metadata": {},
     "output_type": "display_data"
    }
   ],
   "source": [
    "# C) Plot Confusion Matrix\n",
    "def plot_confusion_matrix(y_true, y_pred, labels):\n",
    "    cm = confusion_matrix(y_true, y_pred)\n",
    "    plt.figure(figsize=(6, 4))\n",
    "    sns.heatmap(cm, annot=True, fmt=\"d\", cmap=\"Blues\", xticklabels=labels, yticklabels=labels)\n",
    "    plt.xlabel(\"Predicted\")\n",
    "    plt.ylabel(\"Actual\")\n",
    "    plt.title(\"Confusion Matrix\")\n",
    "    plt.show()\n",
    "\n",
    "plot_confusion_matrix(y_test, y_pred, ['Not Cancelled', 'Cancelled'])"
   ]
  }
 ],
 "metadata": {
  "kernelspec": {
   "display_name": "Python 3 (ipykernel)",
   "language": "python",
   "name": "python3"
  },
  "language_info": {
   "codemirror_mode": {
    "name": "ipython",
    "version": 3
   },
   "file_extension": ".py",
   "mimetype": "text/x-python",
   "name": "python",
   "nbconvert_exporter": "python",
   "pygments_lexer": "ipython3",
   "version": "3.11.4"
  }
 },
 "nbformat": 4,
 "nbformat_minor": 5
}
